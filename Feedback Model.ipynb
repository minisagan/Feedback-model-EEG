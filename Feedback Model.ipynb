{
 "cells": [
  {
   "cell_type": "markdown",
   "id": "cf007189",
   "metadata": {},
   "source": [
    "# Settting Up"
   ]
  },
  {
   "cell_type": "code",
   "execution_count": 1,
   "id": "a18ae924",
   "metadata": {},
   "outputs": [
    {
     "name": "stdout",
     "output_type": "stream",
     "text": [
      "<KeysViewHDF5 ['eeg', 'stim']>\n",
      "<KeysViewHDF5 ['P00', 'P01', 'P010', 'P011', 'P012', 'P02', 'P03', 'P04', 'P05', 'P06', 'P07', 'P08', 'P09']>\n",
      "<KeysViewHDF5 ['part0', 'part1', 'part10', 'part11', 'part12', 'part13', 'part14', 'part2', 'part3', 'part4', 'part5', 'part6', 'part7', 'part8', 'part9']>\n"
     ]
    }
   ],
   "source": [
    "import h5py\n",
    "import numpy as np\n",
    "import matplotlib.pyplot as plt\n",
    "import os\n",
    "os.chdir('C:\\\\Users\\\\User\\\\Desktop\\\\Internship')\n",
    "data_path = 'data.h5'\n",
    "data = h5py.File(data_path, 'r') \n",
    "import random\n",
    "from feedback_loop import Feedback\n",
    "\n",
    "\n",
    "N = 35 # length of lagged stim vector, how many past times we want it to depend on, N can be set to equal t if we want to consider all past values \n",
    "M = 35 #lenght of EEG feedback vector \n",
    "x = np.hstack([data[f'stim/part{0}'][:]])\n",
    "\n",
    "Y_t_allelectrodes = np.hstack([data[f'eeg/P00/part{0}'][:]]) #only looking at participant P00. but this is for all electrodes \n",
    "y = Y_t_allelectrodes[51] #update for speicific electrode  \n",
    "\n",
    "from scipy.stats import pearsonr\n",
    "\n",
    "'''model parameters'''\n",
    "np.random.seed(0)\n",
    "k = np.random.normal(0, 0.01, N) \n",
    "\n",
    "np.random.seed(1)\n",
    "h = np.random.normal(0, 0.01, M)\n",
    "\n",
    "print(data.keys())\n",
    "print(data['eeg'].keys())\n",
    "print(data['stim'].keys())"
   ]
  },
  {
   "cell_type": "markdown",
   "id": "3539a652",
   "metadata": {},
   "source": [
    "# EEG reconstruction "
   ]
  },
  {
   "cell_type": "code",
   "execution_count": 3,
   "id": "928117b7",
   "metadata": {},
   "outputs": [],
   "source": [
    "def plot_eeg_recon(participant):\n",
    "\n",
    "    \n",
    "    train_parts = range(11)\n",
    "    test_parts = range(11,14)\n",
    "    electrode_idx = 58 # a number between 1 and 64\n",
    "\n",
    "    y_train = np.hstack([data[f'eeg/{participant}/part{part}'][:] for part in train_parts])\n",
    "    x_train = np.hstack([data[f'stim/part{part}'][:] for part in train_parts])\n",
    "   \n",
    "    mdl = Feedback(35, 35, k, h, 1e-7, 1e-7) #should this be changed too? \n",
    "    mdl.fit(x_train, y_train[58], k, h)\n",
    "\n",
    "    y_test = np.hstack([data[f'eeg/{participant}/part{part}'][:] for part in test_parts])\n",
    "    x_test = np.hstack([data[f'stim/part{part}'][:] for part in test_parts])\n",
    "\n",
    "    #y_hat = mdl.predict(x_test)\n",
    "    #print(pearsonr(y_hat.flatten(), y_test[electrode_idx]))\n",
    "\n",
    "    scores = []\n",
    "    for electrode_idx in range(64):\n",
    "        mdl.fit(x_train, y_train[electrode_idx], k, h)\n",
    "        y_hat = mdl.predict(x_test)\n",
    "        scores.append(pearsonr(y_hat.flatten(), y_test[electrode_idx])[0])\n",
    "\n",
    "    \n",
    "    plt.plot(range(len(ch_names)), scores, label=f'{participant}')\n",
    "    plt.xlabel('channel name')\n",
    "    plt.ylabel('correlation coefficient')\n",
    "    plt.title('eeg recon')\n",
    "    plt.xticks(range(len(ch_names)), ch_names, rotation=90)\n",
    "    "
   ]
  },
  {
   "cell_type": "code",
   "execution_count": null,
   "id": "9c52ad36",
   "metadata": {},
   "outputs": [],
   "source": [
    "plt.close()\n",
    "for participant in data['eeg']: \n",
    "    plot_eeg_recon(participant)\n",
    "plt.legend(loc ='lower left')\n",
    "plt.show()"
   ]
  },
  {
   "cell_type": "markdown",
   "id": "6567960e",
   "metadata": {},
   "source": [
    "# Plotting correlation coefficients"
   ]
  },
  {
   "cell_type": "code",
   "execution_count": null,
   "id": "6bb7efd8",
   "metadata": {},
   "outputs": [],
   "source": [
    "mdl = Feedback(35, 35, k, h, 1e-7, 1e-7)\n",
    "train_parts = range(11)\n",
    "participants = []\n",
    "for participant in data['eeg']: \n",
    "    coefficients=[]\n",
    "    y_train = np.hstack([data[f'eeg/{participant}/part{part}'][:] for part in train_parts])\n",
    "    x_train = np.hstack([data[f'stim/part{part}'][:] for part in train_parts])\n",
    "    for electrode_idx in range(64):\n",
    "            A=mdl.fit(x_train, y_train[electrode_idx],k, h)\n",
    "            coefficients.append(A)\n",
    "    coefficients = np.stack(coefficients, axis=0)\n",
    "    coefficients = np.squeeze(coefficients)\n",
    "    participants.append(coefficients)\n",
    "participants = np.stack(participants, axis = 0)\n",
    "participants = participants.mean(axis =0)\n"
   ]
  },
  {
   "cell_type": "code",
   "execution_count": null,
   "id": "bccab48d",
   "metadata": {},
   "outputs": [],
   "source": [
    "plt.close()\n",
    "seconds = np.arange(-160, 400 , 8)\n",
    "print(seconds.shape)\n",
    "\n",
    "plt.plot(seconds, np.transpose(participants))\n",
    "plt.xlabel('latency (ms)')\n",
    "plt.ylabel('correlation coefficient')\n",
    "plt.title('Model Coefficients') \n",
    "plt.show()"
   ]
  },
  {
   "cell_type": "code",
   "execution_count": null,
   "id": "04f7fbb3",
   "metadata": {},
   "outputs": [],
   "source": [
    "ch_names = ['AF3', 'AF4', 'AF7', 'AF8', 'C1', 'C2', 'C3', 'C4', 'C5', 'C6', 'CP1', 'CP2', 'CP3', 'CP4', 'CP5', 'CP6', 'CPz', 'Cz', 'F1', 'F2', 'F3', 'F4', 'F5', 'F6', 'F7', 'F8', 'FC1', 'FC2', 'FC3', 'FC4', 'FC5', 'FC6', 'Fp1', 'Fp2', 'FT10', 'FT7', 'FT8', 'FT9', 'Fz', 'O1', 'O2', 'Oz', 'P1', 'P2', 'P3', 'P4', 'P5', 'P6', 'P7', 'P8', 'PO3', 'PO4', 'PO7', 'PO8', 'POz', 'Pz', 'FCz', 'T7', 'T8', 'TP10', 'TP7', 'TP8', 'TP9', 'AFz']\n",
    "info = mne.create_info(ch_names, 125, ch_types='eeg', verbose=None)\n",
    "mne.channels.make_standard_montage('standard_1020')\n",
    "info.set_montage('standard_1020')\n",
    "evoked= mne.EvokedArray(participants, info, tmin=-0.16, comment='', nave=1, kind='average', baseline=None, verbose=None)\n",
    "\n",
    "figure = evoked.plot_joint()"
   ]
  }
 ],
 "metadata": {
  "kernelspec": {
   "display_name": "Python 3",
   "language": "python",
   "name": "python3"
  },
  "language_info": {
   "codemirror_mode": {
    "name": "ipython",
    "version": 3
   },
   "file_extension": ".py",
   "mimetype": "text/x-python",
   "name": "python",
   "nbconvert_exporter": "python",
   "pygments_lexer": "ipython3",
   "version": "3.8.8"
  }
 },
 "nbformat": 4,
 "nbformat_minor": 5
}
